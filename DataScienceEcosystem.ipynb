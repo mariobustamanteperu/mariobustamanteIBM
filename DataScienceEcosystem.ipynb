{
 "cells": [
  {
   "cell_type": "markdown",
   "id": "1bab3615-cc23-4c8b-9bb8-1297fe14fe9b",
   "metadata": {},
   "source": [
    "# H1 :Data Science Tools and Ecosystem"
   ]
  },
  {
   "cell_type": "markdown",
   "id": "4d55c6fe-f624-486a-9600-fcc55c453caf",
   "metadata": {},
   "source": [
    "In this notebook, Data Science Tools and Ecosystem are summarized"
   ]
  },
  {
   "cell_type": "markdown",
   "id": "34d46ce3-2285-40e8-86be-085917be49fc",
   "metadata": {
    "tags": []
   },
   "source": [
    "Some of the popular languages that Data Scientists use are:\n",
    "1. c++ \n",
    "2. JAVA\n",
    "3. R \n",
    "4. SQL\n"
   ]
  },
  {
   "cell_type": "code",
   "execution_count": null,
   "id": "45ddab86-d842-48ac-a68e-f341d02ba7cd",
   "metadata": {},
   "outputs": [],
   "source": [
    "Some of the commonly used libraries used by Data Scientists include:\n"
   ]
  },
  {
   "cell_type": "markdown",
   "id": "99bb28bd-f3ef-455f-9f6c-101845ee7a50",
   "metadata": {
    "tags": []
   },
   "source": [
    "1. Keras\n",
    "2. NumPy\n",
    "3. Pandas\n",
    "4. Matplotlib\n",
    "5. SciPy\n",
    "6. SciKit-Learn\n"
   ]
  },
  {
   "cell_type": "markdown",
   "id": "5fb256bb-16a1-49d9-b3bb-1083cacaadab",
   "metadata": {},
   "source": [
    "|Data Sicience Tools |\n",
    "| ------ | \n",
    "|Apache Hadoop| \n",
    "|IBM CLOUD | \n",
    "|Google Could | \n",
    "|Grapes | "
   ]
  },
  {
   "cell_type": "markdown",
   "id": "bb915d25-2f41-42f0-b16f-a8285e5e991a",
   "metadata": {},
   "source": [
    "# h3 Below are a few examples of evaluating arithmetic expressions in Python"
   ]
  },
  {
   "cell_type": "markdown",
   "id": "857630f6-e456-4ff2-9d32-a1a7fc17a151",
   "metadata": {},
   "source": [
    "<details><summary>Click here for the solution</summary>\n",
    "\n",
    "```python\n",
    "(3*4)+5\n",
    "\n",
    "```\n",
    "\n",
    "</details>"
   ]
  },
  {
   "cell_type": "markdown",
   "id": "ddc6351b-3c94-42dc-b614-25685bedf0e7",
   "metadata": {},
   "source": [
    "This a simple arithmetic expression to mutiply then add integers"
   ]
  },
  {
   "cell_type": "markdown",
   "id": "e86959dd-72d0-45f3-a140-7f3345d50878",
   "metadata": {
    "tags": []
   },
   "source": [
    "=17"
   ]
  },
  {
   "cell_type": "code",
   "execution_count": null,
   "id": "83ad399c-b95f-4a9c-b632-59a8a789c78d",
   "metadata": {},
   "outputs": [],
   "source": [
    "This will convert 200 minutes to hours by diving by 60"
   ]
  },
  {
   "cell_type": "code",
   "execution_count": 23,
   "id": "8bd94ccc-65cc-4478-bdd3-a7bdbbd78e47",
   "metadata": {
    "tags": []
   },
   "outputs": [
    {
     "data": {
      "text/plain": [
       "3.3333333333333335"
      ]
     },
     "execution_count": 23,
     "metadata": {},
     "output_type": "execute_result"
    }
   ],
   "source": [
    "200/60"
   ]
  },
  {
   "cell_type": "markdown",
   "id": "2ccdac00-cf21-477a-b01a-bcd732dcafef",
   "metadata": {
    "tags": []
   },
   "source": [
    "**Objective:**\n",
    "\n",
    "* List popular languages for Data Science\n",
    "* List popular libraries for Data Science\n",
    "* List of Well known Data Science Tools\n",
    "* How to Provide comments in the cell"
   ]
  },
  {
   "cell_type": "markdown",
   "id": "c5b43c3c-14f1-4494-87c2-d86262007586",
   "metadata": {
    "tags": []
   },
   "source": [
    "## Author\n",
    "\n",
    "[Mario Bustamante](https://www.linkedin.com/zionperuclub) "
   ]
  },
  {
   "cell_type": "code",
   "execution_count": null,
   "id": "261542fb-8b67-4f3e-ba8e-b108975e2ceb",
   "metadata": {},
   "outputs": [],
   "source": []
  }
 ],
 "metadata": {
  "kernelspec": {
   "display_name": "Python",
   "language": "python",
   "name": "conda-env-python-py"
  },
  "language_info": {
   "codemirror_mode": {
    "name": "ipython",
    "version": 3
   },
   "file_extension": ".py",
   "mimetype": "text/x-python",
   "name": "python",
   "nbconvert_exporter": "python",
   "pygments_lexer": "ipython3",
   "version": "3.7.12"
  }
 },
 "nbformat": 4,
 "nbformat_minor": 5
}
